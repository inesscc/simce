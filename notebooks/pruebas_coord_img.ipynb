{
 "cells": [
  {
   "cell_type": "code",
   "execution_count": 2,
   "id": "5f051be8-b333-4f14-86e8-80ba915e79e9",
   "metadata": {},
   "outputs": [
    {
     "name": "stdout",
     "output_type": "stream",
     "text": [
      "C:\\Users\\Jeconchao\\Desktop\\Repos\\repo-simce\n"
     ]
    }
   ],
   "source": [
    " # cambiamos directorio a root (correr una vez no más)\n",
    "%cd \"..\""
   ]
  },
  {
   "cell_type": "code",
   "execution_count": 4,
   "id": "f780bed8-9fd1-4ff9-9435-5f546033a7dd",
   "metadata": {},
   "outputs": [],
   "source": [
    "from simce.config import dir_est\n",
    "from itertools import chain\n",
    "import numpy as np\n",
    "import cv2\n",
    "\n",
    "path_img = 'data\\\\input\\\\cuestionario_estudiantes\\\\09965\\\\4272762_1.jpg'\n",
    "img = cv2.imread(path_img)"
   ]
  },
  {
   "cell_type": "code",
   "execution_count": 9,
   "id": "362b3999-f959-4918-8c4e-a91e325942d6",
   "metadata": {},
   "outputs": [
    {
     "data": {
      "text/plain": [
       "(2194, 3393, 3)"
      ]
     },
     "execution_count": 9,
     "metadata": {},
     "output_type": "execute_result"
    }
   ],
   "source": []
  }
 ],
 "metadata": {
  "kernelspec": {
   "display_name": "Python 3 (ipykernel)",
   "language": "python",
   "name": "python3"
  },
  "language_info": {
   "codemirror_mode": {
    "name": "ipython",
    "version": 3
   },
   "file_extension": ".py",
   "mimetype": "text/x-python",
   "name": "python",
   "nbconvert_exporter": "python",
   "pygments_lexer": "ipython3",
   "version": "3.11.5"
  }
 },
 "nbformat": 4,
 "nbformat_minor": 5
}
